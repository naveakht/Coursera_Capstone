{
 "cells": [
  {
   "cell_type": "markdown",
   "metadata": {},
   "source": [
    "# AIM:\n",
    "### My aim is to help a new person who is planning to move to Toronto. Trying to find best place to live with low crime and rent is under X dollars for 2 Bedroom and 1 Bathroom. Also Trying to find out an area which best for his Dog care business."
   ]
  },
  {
   "cell_type": "markdown",
   "metadata": {},
   "source": [
    "## Data\n",
    "### To achieve this I have to have 3 data\n",
    "#### i) Rental Data: https://raw.githubusercontent.com/naveakht/Coursera_Capstone/master/Toronto_apartment_rentals_2018.csv\n",
    "#### ii) Crime Data: https://raw.githubusercontent.com/naveakht/Coursera_Capstone/master/Homicide.csv\n",
    "#### iii) DogShop data from FourSquare"
   ]
  },
  {
   "cell_type": "markdown",
   "metadata": {},
   "source": [
    "## Importing library"
   ]
  },
  {
   "cell_type": "code",
   "execution_count": 123,
   "metadata": {},
   "outputs": [
    {
     "name": "stdout",
     "output_type": "stream",
     "text": [
      "Solving environment: done\n",
      "\n",
      "## Package Plan ##\n",
      "\n",
      "  environment location: /opt/conda/envs/Python36\n",
      "\n",
      "  added / updated specs: \n",
      "    - folium=0.5.0\n",
      "\n",
      "\n",
      "The following packages will be downloaded:\n",
      "\n",
      "    package                    |            build\n",
      "    ---------------------------|-----------------\n",
      "    folium-0.5.0               |             py_0          45 KB  conda-forge\n",
      "    ca-certificates-2019.11.28 |       hecc5488_0         145 KB  conda-forge\n",
      "    certifi-2019.11.28         |           py36_0         149 KB  conda-forge\n",
      "    altair-4.0.1               |             py_0         575 KB  conda-forge\n",
      "    vincent-0.4.4              |             py_1          28 KB  conda-forge\n",
      "    branca-0.3.1               |             py_0          25 KB  conda-forge\n",
      "    openssl-1.1.1d             |       h516909a_0         2.1 MB  conda-forge\n",
      "    ------------------------------------------------------------\n",
      "                                           Total:         3.0 MB\n",
      "\n",
      "The following NEW packages will be INSTALLED:\n",
      "\n",
      "    altair:          4.0.1-py_0        conda-forge\n",
      "    branca:          0.3.1-py_0        conda-forge\n",
      "    folium:          0.5.0-py_0        conda-forge\n",
      "    vincent:         0.4.4-py_1        conda-forge\n",
      "\n",
      "The following packages will be UPDATED:\n",
      "\n",
      "    ca-certificates: 2019.11.27-0                  --> 2019.11.28-hecc5488_0 conda-forge\n",
      "    certifi:         2019.11.28-py36_0             --> 2019.11.28-py36_0     conda-forge\n",
      "\n",
      "The following packages will be DOWNGRADED:\n",
      "\n",
      "    openssl:         1.1.1d-h7b6447c_3             --> 1.1.1d-h516909a_0     conda-forge\n",
      "\n",
      "\n",
      "Downloading and Extracting Packages\n",
      "folium-0.5.0         | 45 KB     | ##################################### | 100% \n",
      "ca-certificates-2019 | 145 KB    | ##################################### | 100% \n",
      "certifi-2019.11.28   | 149 KB    | ##################################### | 100% \n",
      "altair-4.0.1         | 575 KB    | ##################################### | 100% \n",
      "vincent-0.4.4        | 28 KB     | ##################################### | 100% \n",
      "branca-0.3.1         | 25 KB     | ##################################### | 100% \n",
      "openssl-1.1.1d       | 2.1 MB    | ##################################### | 100% \n",
      "Preparing transaction: done\n",
      "Verifying transaction: done\n",
      "Executing transaction: done\n",
      "Libraries imported.\n"
     ]
    }
   ],
   "source": [
    "import numpy as np # library to handle data in a vectorized manner\n",
    "\n",
    "import pandas as pd # library for data analsysis\n",
    "pd.set_option('display.max_columns', None)\n",
    "pd.set_option('display.max_rows', None)\n",
    "\n",
    "import json # library to handle JSON files\n",
    "\n",
    "#!conda install -c conda-forge geopy --yes # uncomment this line if you haven't completed the Foursquare API lab\n",
    "from geopy.geocoders import Nominatim # convert an address into latitude and longitude values\n",
    "\n",
    "import requests # library to handle requests\n",
    "from pandas.io.json import json_normalize # tranform JSON file into a pandas dataframe\n",
    "\n",
    "# Matplotlib and associated plotting modules\n",
    "import matplotlib.cm as cm\n",
    "import matplotlib.colors as colors\n",
    "\n",
    "# import k-means from clustering stage\n",
    "from sklearn.cluster import KMeans\n",
    "\n",
    "!conda install -c conda-forge folium=0.5.0 --yes # uncomment this line if you haven't completed the Foursquare API lab\n",
    "#import folium # map rendering library\n",
    "\n",
    "print('Libraries imported.')\n",
    "\n",
    "import time"
   ]
  },
  {
   "cell_type": "markdown",
   "metadata": {},
   "source": [
    "## Finding the crimes in each Neighbourhood"
   ]
  },
  {
   "cell_type": "code",
   "execution_count": 4,
   "metadata": {},
   "outputs": [],
   "source": [
    "#crime_data=pd.read_csv('https://raw.githubusercontent.com/naveakht/Coursera_Capstone/master/Homicide.csv',header=1,error_bad_lines=False)\n",
    "\n",
    "df=pd.read_csv('https://raw.githubusercontent.com/naveakht/Coursera_Capstone/master/Homicide.csv')\n",
    "\n",
    "crimedata=df[['Occurrence_year','Homicide_Type','Neighbourhood','Lat','Long']]\n",
    "\n"
   ]
  },
  {
   "cell_type": "code",
   "execution_count": 5,
   "metadata": {},
   "outputs": [
    {
     "data": {
      "text/html": [
       "<div>\n",
       "<style scoped>\n",
       "    .dataframe tbody tr th:only-of-type {\n",
       "        vertical-align: middle;\n",
       "    }\n",
       "\n",
       "    .dataframe tbody tr th {\n",
       "        vertical-align: top;\n",
       "    }\n",
       "\n",
       "    .dataframe thead th {\n",
       "        text-align: right;\n",
       "    }\n",
       "</style>\n",
       "<table border=\"1\" class=\"dataframe\">\n",
       "  <thead>\n",
       "    <tr style=\"text-align: right;\">\n",
       "      <th></th>\n",
       "      <th>Occurrence_year</th>\n",
       "      <th>Homicide_Type</th>\n",
       "      <th>Neighbourhood</th>\n",
       "      <th>Lat</th>\n",
       "      <th>Long</th>\n",
       "    </tr>\n",
       "  </thead>\n",
       "  <tbody>\n",
       "    <tr>\n",
       "      <th>0</th>\n",
       "      <td>2004</td>\n",
       "      <td>Other</td>\n",
       "      <td>Rosedale-Moore Park (98)</td>\n",
       "      <td>43.685028</td>\n",
       "      <td>-79.392853</td>\n",
       "    </tr>\n",
       "    <tr>\n",
       "      <th>1</th>\n",
       "      <td>2004</td>\n",
       "      <td>Shooting</td>\n",
       "      <td>Woburn (137)</td>\n",
       "      <td>43.781536</td>\n",
       "      <td>-79.234962</td>\n",
       "    </tr>\n",
       "    <tr>\n",
       "      <th>2</th>\n",
       "      <td>2004</td>\n",
       "      <td>Shooting</td>\n",
       "      <td>Malvern (132)</td>\n",
       "      <td>43.810860</td>\n",
       "      <td>-79.206894</td>\n",
       "    </tr>\n",
       "    <tr>\n",
       "      <th>3</th>\n",
       "      <td>2004</td>\n",
       "      <td>Shooting</td>\n",
       "      <td>Dovercourt-Wallace Emerson-Junction (93)</td>\n",
       "      <td>43.670475</td>\n",
       "      <td>-79.434403</td>\n",
       "    </tr>\n",
       "    <tr>\n",
       "      <th>4</th>\n",
       "      <td>2004</td>\n",
       "      <td>Shooting</td>\n",
       "      <td>Rouge (131)</td>\n",
       "      <td>43.823543</td>\n",
       "      <td>-79.203865</td>\n",
       "    </tr>\n",
       "  </tbody>\n",
       "</table>\n",
       "</div>"
      ],
      "text/plain": [
       "   Occurrence_year Homicide_Type                             Neighbourhood  \\\n",
       "0             2004         Other                  Rosedale-Moore Park (98)   \n",
       "1             2004      Shooting                              Woburn (137)   \n",
       "2             2004      Shooting                             Malvern (132)   \n",
       "3             2004      Shooting  Dovercourt-Wallace Emerson-Junction (93)   \n",
       "4             2004      Shooting                               Rouge (131)   \n",
       "\n",
       "         Lat       Long  \n",
       "0  43.685028 -79.392853  \n",
       "1  43.781536 -79.234962  \n",
       "2  43.810860 -79.206894  \n",
       "3  43.670475 -79.434403  \n",
       "4  43.823543 -79.203865  "
      ]
     },
     "execution_count": 5,
     "metadata": {},
     "output_type": "execute_result"
    }
   ],
   "source": [
    "crimedata.head()"
   ]
  },
  {
   "cell_type": "code",
   "execution_count": 6,
   "metadata": {},
   "outputs": [],
   "source": [
    "from geopy.geocoders import Nominatim\n",
    "geolocator = Nominatim(user_agent=\"naveakht_user\")"
   ]
  },
  {
   "cell_type": "code",
   "execution_count": 7,
   "metadata": {},
   "outputs": [],
   "source": [
    "#I ran this code 1 time and store the file in https://raw.githubusercontent.com/naveakht/Coursera_Capstone/master/Toronto_CrimedataWithPostcode.csv\n",
    "#So that i dont need to run this code again. Commenting it now.\n",
    "#for lindex,lLat,lLong in zip(crimedata.index,crimedata['Lat'],crimedata['Long']):\n",
    "#    try:\n",
    "#        location = geolocator.reverse((lLat, lLong))\n",
    "#        add=location.raw\n",
    "#        print(location.raw)\n",
    "#        lpostcode=add['address']['postcode']\n",
    "#        crimedata.loc[lindex,'postcode'] = lpostcode\n",
    "#    except:\n",
    "#        lpostcode='NOTAVAIL'\n",
    "#        crimedata.loc[lindex,'postcode'] = lpostcode\n",
    "#    time.sleep(0.2)\n",
    "\n",
    "#crimedata.head()"
   ]
  },
  {
   "cell_type": "code",
   "execution_count": 8,
   "metadata": {},
   "outputs": [
    {
     "name": "stdout",
     "output_type": "stream",
     "text": [
      "{'TorontoCity': {'Lat': 43.653908, 'Long': -79.384293}}\n"
     ]
    }
   ],
   "source": [
    "#Cordinates of toronto Main city\n",
    "\n",
    "Postcode_Cordinate={}\n",
    "Postcode_Cordinate['TorontoCity']={}\n",
    "Postcode_Cordinate['TorontoCity']['Lat'] = 43.653908\n",
    "Postcode_Cordinate['TorontoCity']['Long'] = -79.384293\n",
    "\n",
    "print(Postcode_Cordinate)"
   ]
  },
  {
   "cell_type": "code",
   "execution_count": 9,
   "metadata": {},
   "outputs": [
    {
     "name": "stdout",
     "output_type": "stream",
     "text": [
      "(907, 7)\n"
     ]
    },
    {
     "name": "stderr",
     "output_type": "stream",
     "text": [
      "/opt/conda/envs/Python36/lib/python3.6/site-packages/ipykernel/__main__.py:7: SettingWithCopyWarning: \n",
      "A value is trying to be set on a copy of a slice from a DataFrame.\n",
      "Try using .loc[row_indexer,col_indexer] = value instead\n",
      "\n",
      "See the caveats in the documentation: http://pandas.pydata.org/pandas-docs/stable/indexing.html#indexing-view-versus-copy\n"
     ]
    },
    {
     "data": {
      "text/html": [
       "<div>\n",
       "<style scoped>\n",
       "    .dataframe tbody tr th:only-of-type {\n",
       "        vertical-align: middle;\n",
       "    }\n",
       "\n",
       "    .dataframe tbody tr th {\n",
       "        vertical-align: top;\n",
       "    }\n",
       "\n",
       "    .dataframe thead th {\n",
       "        text-align: right;\n",
       "    }\n",
       "</style>\n",
       "<table border=\"1\" class=\"dataframe\">\n",
       "  <thead>\n",
       "    <tr style=\"text-align: right;\">\n",
       "      <th></th>\n",
       "      <th>Index</th>\n",
       "      <th>Occurrence_year</th>\n",
       "      <th>Homicide_Type</th>\n",
       "      <th>Neighbourhood</th>\n",
       "      <th>Lat</th>\n",
       "      <th>Long</th>\n",
       "      <th>postcode</th>\n",
       "    </tr>\n",
       "    <tr>\n",
       "      <th>ShortCode</th>\n",
       "      <th></th>\n",
       "      <th></th>\n",
       "      <th></th>\n",
       "      <th></th>\n",
       "      <th></th>\n",
       "      <th></th>\n",
       "      <th></th>\n",
       "    </tr>\n",
       "  </thead>\n",
       "  <tbody>\n",
       "    <tr>\n",
       "      <th>M3L</th>\n",
       "      <td>48</td>\n",
       "      <td>2010</td>\n",
       "      <td>Other</td>\n",
       "      <td>Glenfield-Jane Heights (25)</td>\n",
       "      <td>43.739391</td>\n",
       "      <td>-79.513222</td>\n",
       "      <td>M3L 2E8</td>\n",
       "    </tr>\n",
       "    <tr>\n",
       "      <th>M6H</th>\n",
       "      <td>101</td>\n",
       "      <td>2012</td>\n",
       "      <td>Shooting</td>\n",
       "      <td>Dufferin Grove (83)</td>\n",
       "      <td>43.654278</td>\n",
       "      <td>-79.437302</td>\n",
       "      <td>M6H 1N4</td>\n",
       "    </tr>\n",
       "    <tr>\n",
       "      <th>M2N</th>\n",
       "      <td>102</td>\n",
       "      <td>2012</td>\n",
       "      <td>Shooting</td>\n",
       "      <td>Lansing-Westgate (38)</td>\n",
       "      <td>43.757469</td>\n",
       "      <td>-79.425423</td>\n",
       "      <td>M2N 1N1</td>\n",
       "    </tr>\n",
       "    <tr>\n",
       "      <th>M2N</th>\n",
       "      <td>103</td>\n",
       "      <td>2012</td>\n",
       "      <td>Shooting</td>\n",
       "      <td>Lansing-Westgate (38)</td>\n",
       "      <td>43.757469</td>\n",
       "      <td>-79.425423</td>\n",
       "      <td>M2N 1N1</td>\n",
       "    </tr>\n",
       "    <tr>\n",
       "      <th>M1T</th>\n",
       "      <td>104</td>\n",
       "      <td>2012</td>\n",
       "      <td>Other</td>\n",
       "      <td>L'Amoreaux (117)</td>\n",
       "      <td>43.784492</td>\n",
       "      <td>-79.315231</td>\n",
       "      <td>M1T 1P7</td>\n",
       "    </tr>\n",
       "  </tbody>\n",
       "</table>\n",
       "</div>"
      ],
      "text/plain": [
       "           Index  Occurrence_year Homicide_Type                Neighbourhood  \\\n",
       "ShortCode                                                                      \n",
       "M3L           48             2010         Other  Glenfield-Jane Heights (25)   \n",
       "M6H          101             2012      Shooting          Dufferin Grove (83)   \n",
       "M2N          102             2012      Shooting        Lansing-Westgate (38)   \n",
       "M2N          103             2012      Shooting        Lansing-Westgate (38)   \n",
       "M1T          104             2012         Other             L'Amoreaux (117)   \n",
       "\n",
       "                 Lat       Long postcode  \n",
       "ShortCode                                 \n",
       "M3L        43.739391 -79.513222  M3L 2E8  \n",
       "M6H        43.654278 -79.437302  M6H 1N4  \n",
       "M2N        43.757469 -79.425423  M2N 1N1  \n",
       "M2N        43.757469 -79.425423  M2N 1N1  \n",
       "M1T        43.784492 -79.315231  M1T 1P7  "
      ]
     },
     "execution_count": 9,
     "metadata": {},
     "output_type": "execute_result"
    }
   ],
   "source": [
    "#Fetch the file again so that i can get Postcode.\n",
    "crimedata=pd.read_csv('https://raw.githubusercontent.com/naveakht/Coursera_Capstone/master/Toronto_CrimedataWithPostcode.csv')\n",
    "\n",
    "#Find postcode NOTAVAIL and remove the row.\n",
    "crimedata_postcode = crimedata.iloc[np.where(crimedata['postcode'] != 'NOTAVAIL')]\n",
    "\n",
    "crimedata_postcode['ShortCode'] = crimedata_postcode['postcode'].str[:3]\n",
    "\n",
    "crimedata_postcode.set_index('ShortCode',inplace=True)\n",
    "\n",
    "print(crimedata_postcode.shape)\n",
    "\n",
    "crimedata_postcode.head()\n",
    "\n",
    "#Taking values only after 2004\n",
    "crimedata_2009=crimedata_postcode.loc[crimedata_postcode['Occurrence_year']>2008]\n",
    "\n",
    "crimedata_postcode=crimedata_2009\n",
    "crimedata_postcode.head()"
   ]
  },
  {
   "cell_type": "code",
   "execution_count": 10,
   "metadata": {},
   "outputs": [
    {
     "data": {
      "text/html": [
       "<div>\n",
       "<style scoped>\n",
       "    .dataframe tbody tr th:only-of-type {\n",
       "        vertical-align: middle;\n",
       "    }\n",
       "\n",
       "    .dataframe tbody tr th {\n",
       "        vertical-align: top;\n",
       "    }\n",
       "\n",
       "    .dataframe thead th {\n",
       "        text-align: right;\n",
       "    }\n",
       "</style>\n",
       "<table border=\"1\" class=\"dataframe\">\n",
       "  <thead>\n",
       "    <tr style=\"text-align: right;\">\n",
       "      <th></th>\n",
       "      <th>Occurrence_year</th>\n",
       "      <th>Homicide_Type</th>\n",
       "      <th>Index</th>\n",
       "      <th>Neighbourhood</th>\n",
       "      <th>Lat</th>\n",
       "      <th>Long</th>\n",
       "      <th>postcode</th>\n",
       "    </tr>\n",
       "  </thead>\n",
       "  <tbody>\n",
       "    <tr>\n",
       "      <th>0</th>\n",
       "      <td>2009</td>\n",
       "      <td>Other</td>\n",
       "      <td>9</td>\n",
       "      <td>9</td>\n",
       "      <td>9</td>\n",
       "      <td>9</td>\n",
       "      <td>9</td>\n",
       "    </tr>\n",
       "    <tr>\n",
       "      <th>1</th>\n",
       "      <td>2009</td>\n",
       "      <td>Shooting</td>\n",
       "      <td>32</td>\n",
       "      <td>32</td>\n",
       "      <td>32</td>\n",
       "      <td>32</td>\n",
       "      <td>32</td>\n",
       "    </tr>\n",
       "    <tr>\n",
       "      <th>2</th>\n",
       "      <td>2009</td>\n",
       "      <td>Stabbing</td>\n",
       "      <td>11</td>\n",
       "      <td>11</td>\n",
       "      <td>11</td>\n",
       "      <td>11</td>\n",
       "      <td>11</td>\n",
       "    </tr>\n",
       "    <tr>\n",
       "      <th>3</th>\n",
       "      <td>2010</td>\n",
       "      <td>Other</td>\n",
       "      <td>16</td>\n",
       "      <td>16</td>\n",
       "      <td>16</td>\n",
       "      <td>16</td>\n",
       "      <td>16</td>\n",
       "    </tr>\n",
       "    <tr>\n",
       "      <th>4</th>\n",
       "      <td>2010</td>\n",
       "      <td>Shooting</td>\n",
       "      <td>30</td>\n",
       "      <td>30</td>\n",
       "      <td>30</td>\n",
       "      <td>30</td>\n",
       "      <td>30</td>\n",
       "    </tr>\n",
       "  </tbody>\n",
       "</table>\n",
       "</div>"
      ],
      "text/plain": [
       "   Occurrence_year Homicide_Type  Index  Neighbourhood  Lat  Long  postcode\n",
       "0             2009         Other      9              9    9     9         9\n",
       "1             2009      Shooting     32             32   32    32        32\n",
       "2             2009      Stabbing     11             11   11    11        11\n",
       "3             2010         Other     16             16   16    16        16\n",
       "4             2010      Shooting     30             30   30    30        30"
      ]
     },
     "execution_count": 10,
     "metadata": {},
     "output_type": "execute_result"
    }
   ],
   "source": [
    "#Group by Occurrence_year and Homicide_Type and count the crimes\n",
    "CrimeTrend_df= crimedata_postcode.groupby(by=['Occurrence_year','Homicide_Type']).count()\n",
    "\n",
    "#Create a bar graph to see if the crime is increasing.\n",
    "CrimeTrend_df.reset_index(inplace=True)\n",
    "CrimeTrend_df.head()"
   ]
  },
  {
   "cell_type": "code",
   "execution_count": 128,
   "metadata": {},
   "outputs": [
    {
     "data": {
      "image/png": "[encoded data removed]",
      "text/plain": [
       "<Figure size 1224x576 with 1 Axes>"
      ]
     },
     "metadata": {
      "needs_background": "light"
     },
     "output_type": "display_data"
    }
   ],
   "source": [
    "import matplotlib.pyplot as plt\n",
    "\n",
    "y_other=CrimeTrend_df.loc[CrimeTrend_df['Homicide_Type']=='Other']\n",
    "p_other=plt.bar(y_other['Occurrence_year'],y_other['Index'],color='b')\n",
    "\n",
    "y_Shooting=CrimeTrend_df.iloc[np.where(CrimeTrend_df['Homicide_Type']=='Shooting')]\n",
    "p_Shooting=plt.bar(y_other['Occurrence_year'],y_Shooting['Index'],color='g',bottom=y_other['Index'])\n",
    "\n",
    "y_Stabbing=CrimeTrend_df.iloc[np.where(CrimeTrend_df['Homicide_Type']=='Stabbing')]\n",
    "p_Stabbing=plt.bar(y_other['Occurrence_year'],y_other['Index'],color='y',bottom=y_Shooting['Index'])\n",
    "\n",
    "plt.xlabel('Years')\n",
    "plt.ylabel('No Of Crimes')\n",
    "plt.title('Crimnal Activities by year')\n",
    "plt.legend((p_other[0], p_Shooting[0],p_Stabbing[0]), ('Others', 'Shooting','Stabbing'))\n",
    "\n",
    "plt.show()\n"
   ]
  },
  {
   "cell_type": "markdown",
   "metadata": {},
   "source": [
    "## Find total number of crimes per ShortCode"
   ]
  },
  {
   "cell_type": "code",
   "execution_count": 13,
   "metadata": {},
   "outputs": [
    {
     "data": {
      "text/html": [
       "<div>\n",
       "<style scoped>\n",
       "    .dataframe tbody tr th:only-of-type {\n",
       "        vertical-align: middle;\n",
       "    }\n",
       "\n",
       "    .dataframe tbody tr th {\n",
       "        vertical-align: top;\n",
       "    }\n",
       "\n",
       "    .dataframe thead th {\n",
       "        text-align: right;\n",
       "    }\n",
       "</style>\n",
       "<table border=\"1\" class=\"dataframe\">\n",
       "  <thead>\n",
       "    <tr style=\"text-align: right;\">\n",
       "      <th></th>\n",
       "      <th>Index</th>\n",
       "      <th>Occurrence_year</th>\n",
       "      <th>Homicide_Type</th>\n",
       "      <th>Neighbourhood</th>\n",
       "      <th>Lat</th>\n",
       "      <th>Long</th>\n",
       "      <th>postcode</th>\n",
       "    </tr>\n",
       "    <tr>\n",
       "      <th>ShortCode</th>\n",
       "      <th></th>\n",
       "      <th></th>\n",
       "      <th></th>\n",
       "      <th></th>\n",
       "      <th></th>\n",
       "      <th></th>\n",
       "      <th></th>\n",
       "    </tr>\n",
       "  </thead>\n",
       "  <tbody>\n",
       "    <tr>\n",
       "      <th>M3L</th>\n",
       "      <td>48</td>\n",
       "      <td>2010</td>\n",
       "      <td>Other</td>\n",
       "      <td>Glenfield-Jane Heights (25)</td>\n",
       "      <td>43.739391</td>\n",
       "      <td>-79.513222</td>\n",
       "      <td>M3L 2E8</td>\n",
       "    </tr>\n",
       "    <tr>\n",
       "      <th>M6H</th>\n",
       "      <td>101</td>\n",
       "      <td>2012</td>\n",
       "      <td>Shooting</td>\n",
       "      <td>Dufferin Grove (83)</td>\n",
       "      <td>43.654278</td>\n",
       "      <td>-79.437302</td>\n",
       "      <td>M6H 1N4</td>\n",
       "    </tr>\n",
       "    <tr>\n",
       "      <th>M2N</th>\n",
       "      <td>102</td>\n",
       "      <td>2012</td>\n",
       "      <td>Shooting</td>\n",
       "      <td>Lansing-Westgate (38)</td>\n",
       "      <td>43.757469</td>\n",
       "      <td>-79.425423</td>\n",
       "      <td>M2N 1N1</td>\n",
       "    </tr>\n",
       "    <tr>\n",
       "      <th>M2N</th>\n",
       "      <td>103</td>\n",
       "      <td>2012</td>\n",
       "      <td>Shooting</td>\n",
       "      <td>Lansing-Westgate (38)</td>\n",
       "      <td>43.757469</td>\n",
       "      <td>-79.425423</td>\n",
       "      <td>M2N 1N1</td>\n",
       "    </tr>\n",
       "    <tr>\n",
       "      <th>M1T</th>\n",
       "      <td>104</td>\n",
       "      <td>2012</td>\n",
       "      <td>Other</td>\n",
       "      <td>L'Amoreaux (117)</td>\n",
       "      <td>43.784492</td>\n",
       "      <td>-79.315231</td>\n",
       "      <td>M1T 1P7</td>\n",
       "    </tr>\n",
       "  </tbody>\n",
       "</table>\n",
       "</div>"
      ],
      "text/plain": [
       "           Index  Occurrence_year Homicide_Type                Neighbourhood  \\\n",
       "ShortCode                                                                      \n",
       "M3L           48             2010         Other  Glenfield-Jane Heights (25)   \n",
       "M6H          101             2012      Shooting          Dufferin Grove (83)   \n",
       "M2N          102             2012      Shooting        Lansing-Westgate (38)   \n",
       "M2N          103             2012      Shooting        Lansing-Westgate (38)   \n",
       "M1T          104             2012         Other             L'Amoreaux (117)   \n",
       "\n",
       "                 Lat       Long postcode  \n",
       "ShortCode                                 \n",
       "M3L        43.739391 -79.513222  M3L 2E8  \n",
       "M6H        43.654278 -79.437302  M6H 1N4  \n",
       "M2N        43.757469 -79.425423  M2N 1N1  \n",
       "M2N        43.757469 -79.425423  M2N 1N1  \n",
       "M1T        43.784492 -79.315231  M1T 1P7  "
      ]
     },
     "execution_count": 13,
     "metadata": {},
     "output_type": "execute_result"
    }
   ],
   "source": [
    "crimedata_postcode.head()"
   ]
  },
  {
   "cell_type": "code",
   "execution_count": 14,
   "metadata": {},
   "outputs": [],
   "source": [
    "crimedata_postcode.reset_index(inplace=True)"
   ]
  },
  {
   "cell_type": "code",
   "execution_count": 15,
   "metadata": {},
   "outputs": [
    {
     "name": "stdout",
     "output_type": "stream",
     "text": [
      "(81, 1)\n"
     ]
    },
    {
     "name": "stderr",
     "output_type": "stream",
     "text": [
      "/opt/conda/envs/Python36/lib/python3.6/site-packages/pandas/core/frame.py:4025: SettingWithCopyWarning: \n",
      "A value is trying to be set on a copy of a slice from a DataFrame\n",
      "\n",
      "See the caveats in the documentation: http://pandas.pydata.org/pandas-docs/stable/indexing.html#indexing-view-versus-copy\n",
      "  return super(DataFrame, self).rename(**kwargs)\n"
     ]
    }
   ],
   "source": [
    "ShortCodeCrime=crimedata_postcode.groupby(by=crimedata_postcode['ShortCode']).count()\n",
    "ShortCodeCrime_df=ShortCodeCrime[['Index']]\n",
    "ShortCodeCrime_df.rename(columns={'Index':'NumberOfCrime'},inplace=True)\n",
    "ShortCodeCrime_df.head()\n",
    "print(ShortCodeCrime_df.shape)\n",
    "#ShortCodeCrime_df.sort_values(by='NumberOfCrime',inplace=True)"
   ]
  },
  {
   "cell_type": "code",
   "execution_count": 127,
   "metadata": {},
   "outputs": [
    {
     "data": {
      "text/html": [
       "<div>\n",
       "<style scoped>\n",
       "    .dataframe tbody tr th:only-of-type {\n",
       "        vertical-align: middle;\n",
       "    }\n",
       "\n",
       "    .dataframe tbody tr th {\n",
       "        vertical-align: top;\n",
       "    }\n",
       "\n",
       "    .dataframe thead th {\n",
       "        text-align: right;\n",
       "    }\n",
       "</style>\n",
       "<table border=\"1\" class=\"dataframe\">\n",
       "  <thead>\n",
       "    <tr style=\"text-align: right;\">\n",
       "      <th></th>\n",
       "      <th>NumberOfCrime</th>\n",
       "    </tr>\n",
       "    <tr>\n",
       "      <th>Shortpostcode</th>\n",
       "      <th></th>\n",
       "    </tr>\n",
       "  </thead>\n",
       "  <tbody>\n",
       "    <tr>\n",
       "      <th>L3R</th>\n",
       "      <td>2</td>\n",
       "    </tr>\n",
       "    <tr>\n",
       "      <th>M1B</th>\n",
       "      <td>21</td>\n",
       "    </tr>\n",
       "    <tr>\n",
       "      <th>M1C</th>\n",
       "      <td>5</td>\n",
       "    </tr>\n",
       "    <tr>\n",
       "      <th>M1E</th>\n",
       "      <td>10</td>\n",
       "    </tr>\n",
       "    <tr>\n",
       "      <th>M1G</th>\n",
       "      <td>5</td>\n",
       "    </tr>\n",
       "  </tbody>\n",
       "</table>\n",
       "</div>"
      ],
      "text/plain": [
       "               NumberOfCrime\n",
       "Shortpostcode               \n",
       "L3R                        2\n",
       "M1B                       21\n",
       "M1C                        5\n",
       "M1E                       10\n",
       "M1G                        5"
      ]
     },
     "execution_count": 127,
     "metadata": {},
     "output_type": "execute_result"
    }
   ],
   "source": [
    "ShortCodeCrime_df.head()"
   ]
  },
  {
   "cell_type": "markdown",
   "metadata": {},
   "source": [
    "# Finding Rental for 2BedRoom and 1 badroom near Toronto"
   ]
  },
  {
   "cell_type": "code",
   "execution_count": 16,
   "metadata": {},
   "outputs": [],
   "source": [
    "rental_df=pd.read_csv('https://raw.githubusercontent.com/naveakht/Coursera_Capstone/master/Toronto_apartment_rentals_2018.csv')"
   ]
  },
  {
   "cell_type": "code",
   "execution_count": 18,
   "metadata": {},
   "outputs": [
    {
     "data": {
      "text/html": [
       "<div>\n",
       "<style scoped>\n",
       "    .dataframe tbody tr th:only-of-type {\n",
       "        vertical-align: middle;\n",
       "    }\n",
       "\n",
       "    .dataframe tbody tr th {\n",
       "        vertical-align: top;\n",
       "    }\n",
       "\n",
       "    .dataframe thead th {\n",
       "        text-align: right;\n",
       "    }\n",
       "</style>\n",
       "<table border=\"1\" class=\"dataframe\">\n",
       "  <thead>\n",
       "    <tr style=\"text-align: right;\">\n",
       "      <th></th>\n",
       "      <th>Bedroom</th>\n",
       "      <th>Bathroom</th>\n",
       "      <th>Den</th>\n",
       "      <th>Address</th>\n",
       "      <th>Lat</th>\n",
       "      <th>Long</th>\n",
       "      <th>Price</th>\n",
       "    </tr>\n",
       "  </thead>\n",
       "  <tbody>\n",
       "    <tr>\n",
       "      <th>0</th>\n",
       "      <td>2</td>\n",
       "      <td>2.0</td>\n",
       "      <td>0</td>\n",
       "      <td>3985 Grand Park Drive, 3985 Grand Park Dr, Mis...</td>\n",
       "      <td>43.581639</td>\n",
       "      <td>-79.648193</td>\n",
       "      <td>$2,450.00</td>\n",
       "    </tr>\n",
       "    <tr>\n",
       "      <th>1</th>\n",
       "      <td>1</td>\n",
       "      <td>1.0</td>\n",
       "      <td>1</td>\n",
       "      <td>361 Front St W, Toronto, ON M5V 3R5, Canada</td>\n",
       "      <td>43.643051</td>\n",
       "      <td>-79.391643</td>\n",
       "      <td>$2,150.00</td>\n",
       "    </tr>\n",
       "    <tr>\n",
       "      <th>2</th>\n",
       "      <td>1</td>\n",
       "      <td>1.0</td>\n",
       "      <td>0</td>\n",
       "      <td>89 McGill Street, Toronto, ON, M5B 0B1</td>\n",
       "      <td>43.660605</td>\n",
       "      <td>-79.378635</td>\n",
       "      <td>$1,950.00</td>\n",
       "    </tr>\n",
       "    <tr>\n",
       "      <th>3</th>\n",
       "      <td>2</td>\n",
       "      <td>2.0</td>\n",
       "      <td>0</td>\n",
       "      <td>10 York Street, Toronto, ON, M5J 0E1</td>\n",
       "      <td>43.641087</td>\n",
       "      <td>-79.381405</td>\n",
       "      <td>$2,900.00</td>\n",
       "    </tr>\n",
       "    <tr>\n",
       "      <th>4</th>\n",
       "      <td>1</td>\n",
       "      <td>1.0</td>\n",
       "      <td>0</td>\n",
       "      <td>80 St Patrick St, Toronto, ON M5T 2X6, Canada</td>\n",
       "      <td>43.652487</td>\n",
       "      <td>-79.389622</td>\n",
       "      <td>$1,800.00</td>\n",
       "    </tr>\n",
       "  </tbody>\n",
       "</table>\n",
       "</div>"
      ],
      "text/plain": [
       "   Bedroom  Bathroom  Den                                            Address  \\\n",
       "0        2       2.0    0  3985 Grand Park Drive, 3985 Grand Park Dr, Mis...   \n",
       "1        1       1.0    1        361 Front St W, Toronto, ON M5V 3R5, Canada   \n",
       "2        1       1.0    0             89 McGill Street, Toronto, ON, M5B 0B1   \n",
       "3        2       2.0    0               10 York Street, Toronto, ON, M5J 0E1   \n",
       "4        1       1.0    0      80 St Patrick St, Toronto, ON M5T 2X6, Canada   \n",
       "\n",
       "         Lat       Long      Price  \n",
       "0  43.581639 -79.648193  $2,450.00  \n",
       "1  43.643051 -79.391643  $2,150.00  \n",
       "2  43.660605 -79.378635  $1,950.00  \n",
       "3  43.641087 -79.381405  $2,900.00  \n",
       "4  43.652487 -79.389622  $1,800.00  "
      ]
     },
     "execution_count": 18,
     "metadata": {},
     "output_type": "execute_result"
    }
   ],
   "source": [
    "#Defining number of bathroom and bedroom\n",
    "MIN_BEDROOM=1\n",
    "MIN_BATHROOM=1\n",
    "MAX_RENT = 1700\n",
    "MAX_CRIME= 10\n",
    "BUSINESS_TYPE='Dog'\n",
    "rental_df.head()"
   ]
  },
  {
   "cell_type": "code",
   "execution_count": 126,
   "metadata": {},
   "outputs": [
    {
     "name": "stdout",
     "output_type": "stream",
     "text": [
      "(788, 8)\n"
     ]
    },
    {
     "data": {
      "text/html": [
       "<div>\n",
       "<style scoped>\n",
       "    .dataframe tbody tr th:only-of-type {\n",
       "        vertical-align: middle;\n",
       "    }\n",
       "\n",
       "    .dataframe tbody tr th {\n",
       "        vertical-align: top;\n",
       "    }\n",
       "\n",
       "    .dataframe thead th {\n",
       "        text-align: right;\n",
       "    }\n",
       "</style>\n",
       "<table border=\"1\" class=\"dataframe\">\n",
       "  <thead>\n",
       "    <tr style=\"text-align: right;\">\n",
       "      <th></th>\n",
       "      <th>Lat</th>\n",
       "      <th>Long</th>\n",
       "      <th>Price</th>\n",
       "      <th>Address</th>\n",
       "      <th>Bedroom</th>\n",
       "      <th>Bathroom</th>\n",
       "      <th>TotalRoom</th>\n",
       "      <th>PriceFor2Room</th>\n",
       "    </tr>\n",
       "  </thead>\n",
       "  <tbody>\n",
       "    <tr>\n",
       "      <th>1</th>\n",
       "      <td>43.643051</td>\n",
       "      <td>-79.391643</td>\n",
       "      <td>2150.0</td>\n",
       "      <td>361 Front St W, Toronto, ON M5V 3R5, Canada</td>\n",
       "      <td>1</td>\n",
       "      <td>1.0</td>\n",
       "      <td>2.0</td>\n",
       "      <td>2150.0</td>\n",
       "    </tr>\n",
       "    <tr>\n",
       "      <th>2</th>\n",
       "      <td>43.660605</td>\n",
       "      <td>-79.378635</td>\n",
       "      <td>1950.0</td>\n",
       "      <td>89 McGill Street, Toronto, ON, M5B 0B1</td>\n",
       "      <td>1</td>\n",
       "      <td>1.0</td>\n",
       "      <td>2.0</td>\n",
       "      <td>1950.0</td>\n",
       "    </tr>\n",
       "    <tr>\n",
       "      <th>3</th>\n",
       "      <td>43.641087</td>\n",
       "      <td>-79.381405</td>\n",
       "      <td>2900.0</td>\n",
       "      <td>10 York Street, Toronto, ON, M5J 0E1</td>\n",
       "      <td>2</td>\n",
       "      <td>2.0</td>\n",
       "      <td>4.0</td>\n",
       "      <td>1450.0</td>\n",
       "    </tr>\n",
       "    <tr>\n",
       "      <th>4</th>\n",
       "      <td>43.652487</td>\n",
       "      <td>-79.389622</td>\n",
       "      <td>1800.0</td>\n",
       "      <td>80 St Patrick St, Toronto, ON M5T 2X6, Canada</td>\n",
       "      <td>1</td>\n",
       "      <td>1.0</td>\n",
       "      <td>2.0</td>\n",
       "      <td>1800.0</td>\n",
       "    </tr>\n",
       "    <tr>\n",
       "      <th>5</th>\n",
       "      <td>43.634890</td>\n",
       "      <td>-79.434654</td>\n",
       "      <td>1729.0</td>\n",
       "      <td>87 Jameson Avenue, Toronto, ON, M6K 2W8</td>\n",
       "      <td>1</td>\n",
       "      <td>1.0</td>\n",
       "      <td>2.0</td>\n",
       "      <td>1729.0</td>\n",
       "    </tr>\n",
       "  </tbody>\n",
       "</table>\n",
       "</div>"
      ],
      "text/plain": [
       "         Lat       Long   Price  \\\n",
       "1  43.643051 -79.391643  2150.0   \n",
       "2  43.660605 -79.378635  1950.0   \n",
       "3  43.641087 -79.381405  2900.0   \n",
       "4  43.652487 -79.389622  1800.0   \n",
       "5  43.634890 -79.434654  1729.0   \n",
       "\n",
       "                                         Address  Bedroom  Bathroom  \\\n",
       "1    361 Front St W, Toronto, ON M5V 3R5, Canada        1       1.0   \n",
       "2         89 McGill Street, Toronto, ON, M5B 0B1        1       1.0   \n",
       "3           10 York Street, Toronto, ON, M5J 0E1        2       2.0   \n",
       "4  80 St Patrick St, Toronto, ON M5T 2X6, Canada        1       1.0   \n",
       "5        87 Jameson Avenue, Toronto, ON, M6K 2W8        1       1.0   \n",
       "\n",
       "   TotalRoom  PriceFor2Room  \n",
       "1        2.0         2150.0  \n",
       "2        2.0         1950.0  \n",
       "3        4.0         1450.0  \n",
       "4        2.0         1800.0  \n",
       "5        2.0         1729.0  "
      ]
     },
     "execution_count": 126,
     "metadata": {},
     "output_type": "execute_result"
    }
   ],
   "source": [
    "feature_rental_df=rental_df.loc[(rental_df['Bedroom']>=MIN_BEDROOM) & (rental_df['Bathroom']>=MIN_BATHROOM) & rental_df['Address'].str.contains('Toronto'),['Lat','Long','Price','Address','Bedroom','Bathroom']]\n",
    "\n",
    "#Bathroom + Bedroom\n",
    "feature_rental_df['TotalRoom'] = feature_rental_df['Bedroom'] + feature_rental_df['Bathroom']\n",
    "feature_rental_df['Price']=feature_rental_df['Price'].str[1:-3]\n",
    "feature_rental_df['Price']=feature_rental_df['Price'].apply(lambda x: float(x.replace(',', '')))\n",
    "feature_rental_df['PriceFor2Room'] = (feature_rental_df['Price']/feature_rental_df['TotalRoom'])*(lBathroom+lBedRoom)\n",
    "print(feature_rental_df.shape)\n",
    "\n",
    "feature_rental_df.reset_index()\n",
    "feature_rental_df.head()"
   ]
  },
  {
   "cell_type": "markdown",
   "metadata": {},
   "source": [
    "## Find Postcode w.r.t Lat and Long"
   ]
  },
  {
   "cell_type": "code",
   "execution_count": 20,
   "metadata": {
    "scrolled": false
   },
   "outputs": [],
   "source": [
    "#I hae donne this and save a output in file. So that i dont need to run this again..\n",
    "\n",
    "feature_rental_df = pd.read_csv('https://raw.githubusercontent.com/naveakht/Coursera_Capstone/master/RentTorontoWithPostcode.csv',sep=';')\n",
    "\n",
    "#for lindex,lLat,lLong in zip(feature_rental_df.index,feature_rental_df['Lat'],feature_rental_df['Long']):\n",
    "#    location = geolocator.reverse((lLat, lLong))\n",
    "#    try:\n",
    "#        location = geolocator.reverse((lLat, lLong),timeout=1)\n",
    "#        add=location.raw\n",
    "#        print(lindex)\n",
    "#        lpostcode=add['address']['postcode']\n",
    "#        feature_rental_df.loc[lindex,'Shortpostcode'] = lpostcode[:3]\n",
    "#    except:\n",
    "#        lpostcode='NOTAVAIL'\n",
    "#        feature_rental_df.loc[lindex,'Shortpostcode'] = lpostcode\n",
    "#    time.sleep(1)\n",
    "    \n",
    "#feature_rental_df.head()"
   ]
  },
  {
   "cell_type": "code",
   "execution_count": 21,
   "metadata": {},
   "outputs": [
    {
     "data": {
      "text/html": [
       "<div>\n",
       "<style scoped>\n",
       "    .dataframe tbody tr th:only-of-type {\n",
       "        vertical-align: middle;\n",
       "    }\n",
       "\n",
       "    .dataframe tbody tr th {\n",
       "        vertical-align: top;\n",
       "    }\n",
       "\n",
       "    .dataframe thead th {\n",
       "        text-align: right;\n",
       "    }\n",
       "</style>\n",
       "<table border=\"1\" class=\"dataframe\">\n",
       "  <thead>\n",
       "    <tr style=\"text-align: right;\">\n",
       "      <th></th>\n",
       "      <th>Index</th>\n",
       "      <th>Lat</th>\n",
       "      <th>Long</th>\n",
       "      <th>Price</th>\n",
       "      <th>Address</th>\n",
       "      <th>Bedroom</th>\n",
       "      <th>Bathroom</th>\n",
       "      <th>TotalRoom</th>\n",
       "      <th>PriceFor2Room</th>\n",
       "      <th>Shortpostcode</th>\n",
       "    </tr>\n",
       "  </thead>\n",
       "  <tbody>\n",
       "    <tr>\n",
       "      <th>0</th>\n",
       "      <td>1</td>\n",
       "      <td>43.643051</td>\n",
       "      <td>-79.391643</td>\n",
       "      <td>2150.0</td>\n",
       "      <td>361 Front St W</td>\n",
       "      <td>1</td>\n",
       "      <td>1.0</td>\n",
       "      <td>2.0</td>\n",
       "      <td>2150.0</td>\n",
       "      <td>M5V</td>\n",
       "    </tr>\n",
       "    <tr>\n",
       "      <th>1</th>\n",
       "      <td>2</td>\n",
       "      <td>43.660605</td>\n",
       "      <td>-79.378635</td>\n",
       "      <td>1950.0</td>\n",
       "      <td>89 McGill Street</td>\n",
       "      <td>1</td>\n",
       "      <td>1.0</td>\n",
       "      <td>2.0</td>\n",
       "      <td>1950.0</td>\n",
       "      <td>M5B</td>\n",
       "    </tr>\n",
       "    <tr>\n",
       "      <th>2</th>\n",
       "      <td>3</td>\n",
       "      <td>43.641087</td>\n",
       "      <td>-79.381405</td>\n",
       "      <td>2900.0</td>\n",
       "      <td>10 York Street</td>\n",
       "      <td>2</td>\n",
       "      <td>2.0</td>\n",
       "      <td>4.0</td>\n",
       "      <td>1450.0</td>\n",
       "      <td>M5J</td>\n",
       "    </tr>\n",
       "    <tr>\n",
       "      <th>3</th>\n",
       "      <td>4</td>\n",
       "      <td>43.652487</td>\n",
       "      <td>-79.389622</td>\n",
       "      <td>1800.0</td>\n",
       "      <td>80 St Patrick St</td>\n",
       "      <td>1</td>\n",
       "      <td>1.0</td>\n",
       "      <td>2.0</td>\n",
       "      <td>1800.0</td>\n",
       "      <td>M5T</td>\n",
       "    </tr>\n",
       "    <tr>\n",
       "      <th>4</th>\n",
       "      <td>5</td>\n",
       "      <td>43.634890</td>\n",
       "      <td>-79.434654</td>\n",
       "      <td>1729.0</td>\n",
       "      <td>87 Jameson Avenue</td>\n",
       "      <td>1</td>\n",
       "      <td>1.0</td>\n",
       "      <td>2.0</td>\n",
       "      <td>1729.0</td>\n",
       "      <td>M6K</td>\n",
       "    </tr>\n",
       "  </tbody>\n",
       "</table>\n",
       "</div>"
      ],
      "text/plain": [
       "   Index        Lat       Long   Price            Address  Bedroom  Bathroom  \\\n",
       "0      1  43.643051 -79.391643  2150.0     361 Front St W        1       1.0   \n",
       "1      2  43.660605 -79.378635  1950.0   89 McGill Street        1       1.0   \n",
       "2      3  43.641087 -79.381405  2900.0     10 York Street        2       2.0   \n",
       "3      4  43.652487 -79.389622  1800.0   80 St Patrick St        1       1.0   \n",
       "4      5  43.634890 -79.434654  1729.0  87 Jameson Avenue        1       1.0   \n",
       "\n",
       "   TotalRoom  PriceFor2Room Shortpostcode  \n",
       "0        2.0         2150.0           M5V  \n",
       "1        2.0         1950.0           M5B  \n",
       "2        4.0         1450.0           M5J  \n",
       "3        2.0         1800.0           M5T  \n",
       "4        2.0         1729.0           M6K  "
      ]
     },
     "execution_count": 21,
     "metadata": {},
     "output_type": "execute_result"
    }
   ],
   "source": [
    "feature_rental_df.head()"
   ]
  },
  {
   "cell_type": "code",
   "execution_count": 22,
   "metadata": {},
   "outputs": [],
   "source": [
    "#Group by postcode and take the mean of price \n",
    "\n",
    "feature_rental_df.loc[feature_rental_df['Shortpostcode']=='M3H']\n",
    "\n",
    "MeanRentalPrice_df = feature_rental_df.groupby(by='Shortpostcode').mean()[['PriceFor2Room']]"
   ]
  },
  {
   "cell_type": "code",
   "execution_count": 23,
   "metadata": {},
   "outputs": [
    {
     "data": {
      "text/html": [
       "<div>\n",
       "<style scoped>\n",
       "    .dataframe tbody tr th:only-of-type {\n",
       "        vertical-align: middle;\n",
       "    }\n",
       "\n",
       "    .dataframe tbody tr th {\n",
       "        vertical-align: top;\n",
       "    }\n",
       "\n",
       "    .dataframe thead th {\n",
       "        text-align: right;\n",
       "    }\n",
       "</style>\n",
       "<table border=\"1\" class=\"dataframe\">\n",
       "  <thead>\n",
       "    <tr style=\"text-align: right;\">\n",
       "      <th></th>\n",
       "      <th>PriceFor2Room</th>\n",
       "    </tr>\n",
       "    <tr>\n",
       "      <th>Shortpostcode</th>\n",
       "      <th></th>\n",
       "    </tr>\n",
       "  </thead>\n",
       "  <tbody>\n",
       "    <tr>\n",
       "      <th>M1T</th>\n",
       "      <td>1250.000000</td>\n",
       "    </tr>\n",
       "    <tr>\n",
       "      <th>M2J</th>\n",
       "      <td>1927.000000</td>\n",
       "    </tr>\n",
       "    <tr>\n",
       "      <th>M2N</th>\n",
       "      <td>1500.000000</td>\n",
       "    </tr>\n",
       "    <tr>\n",
       "      <th>M2R</th>\n",
       "      <td>1530.833333</td>\n",
       "    </tr>\n",
       "    <tr>\n",
       "      <th>M3A</th>\n",
       "      <td>800.000000</td>\n",
       "    </tr>\n",
       "  </tbody>\n",
       "</table>\n",
       "</div>"
      ],
      "text/plain": [
       "               PriceFor2Room\n",
       "Shortpostcode               \n",
       "M1T              1250.000000\n",
       "M2J              1927.000000\n",
       "M2N              1500.000000\n",
       "M2R              1530.833333\n",
       "M3A               800.000000"
      ]
     },
     "execution_count": 23,
     "metadata": {},
     "output_type": "execute_result"
    }
   ],
   "source": [
    "MeanRentalPrice_df.head()"
   ]
  },
  {
   "cell_type": "code",
   "execution_count": null,
   "metadata": {},
   "outputs": [],
   "source": []
  },
  {
   "cell_type": "code",
   "execution_count": 24,
   "metadata": {},
   "outputs": [],
   "source": [
    "#rentalAndCrime_df = pd.concat([ShortCodeCrime_df,feature_rental_df], axis=1)\n",
    "ShortCodeCrime_df.reset_index(inplace=True)\n",
    "feature_rental_df.reset_index(inplace=True)"
   ]
  },
  {
   "cell_type": "code",
   "execution_count": null,
   "metadata": {},
   "outputs": [],
   "source": []
  },
  {
   "cell_type": "code",
   "execution_count": 25,
   "metadata": {},
   "outputs": [],
   "source": [
    "ShortCodeCrime_df.rename(columns={'ShortCode':'Shortpostcode'},inplace=True)"
   ]
  },
  {
   "cell_type": "code",
   "execution_count": 26,
   "metadata": {},
   "outputs": [
    {
     "data": {
      "text/html": [
       "<div>\n",
       "<style scoped>\n",
       "    .dataframe tbody tr th:only-of-type {\n",
       "        vertical-align: middle;\n",
       "    }\n",
       "\n",
       "    .dataframe tbody tr th {\n",
       "        vertical-align: top;\n",
       "    }\n",
       "\n",
       "    .dataframe thead th {\n",
       "        text-align: right;\n",
       "    }\n",
       "</style>\n",
       "<table border=\"1\" class=\"dataframe\">\n",
       "  <thead>\n",
       "    <tr style=\"text-align: right;\">\n",
       "      <th></th>\n",
       "      <th>index</th>\n",
       "      <th>Index</th>\n",
       "      <th>Lat</th>\n",
       "      <th>Long</th>\n",
       "      <th>Price</th>\n",
       "      <th>Address</th>\n",
       "      <th>Bedroom</th>\n",
       "      <th>Bathroom</th>\n",
       "      <th>TotalRoom</th>\n",
       "      <th>PriceFor2Room</th>\n",
       "      <th>Shortpostcode</th>\n",
       "    </tr>\n",
       "  </thead>\n",
       "  <tbody>\n",
       "    <tr>\n",
       "      <th>0</th>\n",
       "      <td>0</td>\n",
       "      <td>1</td>\n",
       "      <td>43.643051</td>\n",
       "      <td>-79.391643</td>\n",
       "      <td>2150.0</td>\n",
       "      <td>361 Front St W</td>\n",
       "      <td>1</td>\n",
       "      <td>1.0</td>\n",
       "      <td>2.0</td>\n",
       "      <td>2150.0</td>\n",
       "      <td>M5V</td>\n",
       "    </tr>\n",
       "    <tr>\n",
       "      <th>1</th>\n",
       "      <td>1</td>\n",
       "      <td>2</td>\n",
       "      <td>43.660605</td>\n",
       "      <td>-79.378635</td>\n",
       "      <td>1950.0</td>\n",
       "      <td>89 McGill Street</td>\n",
       "      <td>1</td>\n",
       "      <td>1.0</td>\n",
       "      <td>2.0</td>\n",
       "      <td>1950.0</td>\n",
       "      <td>M5B</td>\n",
       "    </tr>\n",
       "    <tr>\n",
       "      <th>2</th>\n",
       "      <td>2</td>\n",
       "      <td>3</td>\n",
       "      <td>43.641087</td>\n",
       "      <td>-79.381405</td>\n",
       "      <td>2900.0</td>\n",
       "      <td>10 York Street</td>\n",
       "      <td>2</td>\n",
       "      <td>2.0</td>\n",
       "      <td>4.0</td>\n",
       "      <td>1450.0</td>\n",
       "      <td>M5J</td>\n",
       "    </tr>\n",
       "    <tr>\n",
       "      <th>3</th>\n",
       "      <td>3</td>\n",
       "      <td>4</td>\n",
       "      <td>43.652487</td>\n",
       "      <td>-79.389622</td>\n",
       "      <td>1800.0</td>\n",
       "      <td>80 St Patrick St</td>\n",
       "      <td>1</td>\n",
       "      <td>1.0</td>\n",
       "      <td>2.0</td>\n",
       "      <td>1800.0</td>\n",
       "      <td>M5T</td>\n",
       "    </tr>\n",
       "    <tr>\n",
       "      <th>4</th>\n",
       "      <td>4</td>\n",
       "      <td>5</td>\n",
       "      <td>43.634890</td>\n",
       "      <td>-79.434654</td>\n",
       "      <td>1729.0</td>\n",
       "      <td>87 Jameson Avenue</td>\n",
       "      <td>1</td>\n",
       "      <td>1.0</td>\n",
       "      <td>2.0</td>\n",
       "      <td>1729.0</td>\n",
       "      <td>M6K</td>\n",
       "    </tr>\n",
       "  </tbody>\n",
       "</table>\n",
       "</div>"
      ],
      "text/plain": [
       "   index  Index        Lat       Long   Price            Address  Bedroom  \\\n",
       "0      0      1  43.643051 -79.391643  2150.0     361 Front St W        1   \n",
       "1      1      2  43.660605 -79.378635  1950.0   89 McGill Street        1   \n",
       "2      2      3  43.641087 -79.381405  2900.0     10 York Street        2   \n",
       "3      3      4  43.652487 -79.389622  1800.0   80 St Patrick St        1   \n",
       "4      4      5  43.634890 -79.434654  1729.0  87 Jameson Avenue        1   \n",
       "\n",
       "   Bathroom  TotalRoom  PriceFor2Room Shortpostcode  \n",
       "0       1.0        2.0         2150.0           M5V  \n",
       "1       1.0        2.0         1950.0           M5B  \n",
       "2       2.0        4.0         1450.0           M5J  \n",
       "3       1.0        2.0         1800.0           M5T  \n",
       "4       1.0        2.0         1729.0           M6K  "
      ]
     },
     "execution_count": 26,
     "metadata": {},
     "output_type": "execute_result"
    }
   ],
   "source": [
    "feature_rental_df.head()"
   ]
  },
  {
   "cell_type": "code",
   "execution_count": null,
   "metadata": {},
   "outputs": [],
   "source": []
  },
  {
   "cell_type": "code",
   "execution_count": 27,
   "metadata": {},
   "outputs": [],
   "source": [
    "df_Crime_Rental=pd.merge(ShortCodeCrime_df,MeanRentalPrice_df,on='Shortpostcode',how='right')"
   ]
  },
  {
   "cell_type": "code",
   "execution_count": 30,
   "metadata": {
    "scrolled": true
   },
   "outputs": [
    {
     "data": {
      "text/html": [
       "<div>\n",
       "<style scoped>\n",
       "    .dataframe tbody tr th:only-of-type {\n",
       "        vertical-align: middle;\n",
       "    }\n",
       "\n",
       "    .dataframe tbody tr th {\n",
       "        vertical-align: top;\n",
       "    }\n",
       "\n",
       "    .dataframe thead th {\n",
       "        text-align: right;\n",
       "    }\n",
       "</style>\n",
       "<table border=\"1\" class=\"dataframe\">\n",
       "  <thead>\n",
       "    <tr style=\"text-align: right;\">\n",
       "      <th></th>\n",
       "      <th>Shortpostcode</th>\n",
       "      <th>NumberOfCrime</th>\n",
       "      <th>PriceFor2Room</th>\n",
       "    </tr>\n",
       "  </thead>\n",
       "  <tbody>\n",
       "    <tr>\n",
       "      <th>0</th>\n",
       "      <td>M1T</td>\n",
       "      <td>6.0</td>\n",
       "      <td>1250.000000</td>\n",
       "    </tr>\n",
       "    <tr>\n",
       "      <th>3</th>\n",
       "      <td>M3A</td>\n",
       "      <td>2.0</td>\n",
       "      <td>800.000000</td>\n",
       "    </tr>\n",
       "    <tr>\n",
       "      <th>5</th>\n",
       "      <td>M3H</td>\n",
       "      <td>3.0</td>\n",
       "      <td>1506.111111</td>\n",
       "    </tr>\n",
       "    <tr>\n",
       "      <th>7</th>\n",
       "      <td>M4E</td>\n",
       "      <td>4.0</td>\n",
       "      <td>1300.000000</td>\n",
       "    </tr>\n",
       "    <tr>\n",
       "      <th>16</th>\n",
       "      <td>M5G</td>\n",
       "      <td>2.0</td>\n",
       "      <td>1193.333333</td>\n",
       "    </tr>\n",
       "    <tr>\n",
       "      <th>23</th>\n",
       "      <td>M6E</td>\n",
       "      <td>7.0</td>\n",
       "      <td>1333.333333</td>\n",
       "    </tr>\n",
       "    <tr>\n",
       "      <th>24</th>\n",
       "      <td>M6G</td>\n",
       "      <td>8.0</td>\n",
       "      <td>1164.444444</td>\n",
       "    </tr>\n",
       "  </tbody>\n",
       "</table>\n",
       "</div>"
      ],
      "text/plain": [
       "   Shortpostcode  NumberOfCrime  PriceFor2Room\n",
       "0            M1T            6.0    1250.000000\n",
       "3            M3A            2.0     800.000000\n",
       "5            M3H            3.0    1506.111111\n",
       "7            M4E            4.0    1300.000000\n",
       "16           M5G            2.0    1193.333333\n",
       "23           M6E            7.0    1333.333333\n",
       "24           M6G            8.0    1164.444444"
      ]
     },
     "execution_count": 30,
     "metadata": {},
     "output_type": "execute_result"
    }
   ],
   "source": [
    "#So it shows the Price for 2 room and with the crime. \n",
    "#Take only the Postcode where the Crime is less than 10 a year\n",
    "df_Crime_Rental=df_Crime_Rental.loc[df_Crime_Rental['NumberOfCrime']<MAX_CRIME]\n",
    "df_Crime_Rental=df_Crime_Rental.loc[df_Crime_Rental['PriceFor2Room']<MAX_RENT]\n",
    "df_Crime_Rental\n"
   ]
  },
  {
   "cell_type": "code",
   "execution_count": 31,
   "metadata": {},
   "outputs": [],
   "source": [
    "#Normalise the dataset\n",
    "\n",
    "from sklearn import preprocessing\n",
    "df_Crime_Rental[['NumberOfCrime_Norm','PriceFor2Room_Norm']]=df_Crime_Rental[['NumberOfCrime','PriceFor2Room']]\n",
    "min_max_scaler = preprocessing.MinMaxScaler()\n",
    "df_Crime_Rental[['NumberOfCrime_Norm','PriceFor2Room_Norm']] = min_max_scaler.fit_transform(df_Crime_Rental[['NumberOfCrime','PriceFor2Room']])\n",
    "df_Crime_Rental.sort_values(by='PriceFor2Room',inplace=True)"
   ]
  },
  {
   "cell_type": "code",
   "execution_count": 50,
   "metadata": {},
   "outputs": [
    {
     "data": {
      "image/png": "[encoded data removed]",
      "text/plain": [
       "<Figure size 1224x576 with 1 Axes>"
      ]
     },
     "metadata": {
      "needs_background": "light"
     },
     "output_type": "display_data"
    }
   ],
   "source": [
    "#Make a graph to show a relationship between rent and crime\n",
    "fig_size = plt.rcParams[\"figure.figsize\"]\n",
    "fig_size[0] = 17\n",
    "fig_size[1] = 8\n",
    "plt.rcParams[\"figure.figsize\"] = fig_size\n",
    "\n",
    "\n",
    "price_plt=plt.bar(df_Crime_Rental['Shortpostcode'],df_Crime_Rental['PriceFor2Room_Norm'])\n",
    "crime_plt=plt.plot(df_Crime_Rental['Shortpostcode'],df_Crime_Rental['NumberOfCrime_Norm'],color='y')\n",
    "\n",
    "plt.xlabel('ShortPostCode')\n",
    "plt.ylabel('Values for Rental and Crime')\n",
    "plt.title('CrimeRate Vs Rental w.r.t Postcode')\n",
    "\n",
    "plt.legend((price_plt[0],crime_plt[0]),('Price','Crime'))\n",
    "plt.show()\n"
   ]
  },
  {
   "cell_type": "markdown",
   "metadata": {},
   "source": [
    "## It looks like M3A, M3H M5G and M5P are quite good areas to Live with less rental. "
   ]
  },
  {
   "cell_type": "markdown",
   "metadata": {},
   "source": [
    "### Now try to find the local stores around above postcode to do the business. Ideally If we have less coffee shop in this area then its good to do business."
   ]
  },
  {
   "cell_type": "code",
   "execution_count": 33,
   "metadata": {},
   "outputs": [],
   "source": [
    "Top_Areas=df_Crime_Rental['Shortpostcode'].tolist()"
   ]
  },
  {
   "cell_type": "code",
   "execution_count": 34,
   "metadata": {},
   "outputs": [
    {
     "data": {
      "text/plain": [
       "['M3A', 'M6G', 'M5G', 'M1T', 'M4E', 'M6E', 'M3H']"
      ]
     },
     "execution_count": 34,
     "metadata": {},
     "output_type": "execute_result"
    }
   ],
   "source": [
    "Top_Areas"
   ]
  },
  {
   "cell_type": "code",
   "execution_count": 35,
   "metadata": {},
   "outputs": [],
   "source": [
    "#Top_Areas = ['M3A', 'M3H', 'M5G','M5P']"
   ]
  },
  {
   "cell_type": "code",
   "execution_count": 36,
   "metadata": {},
   "outputs": [],
   "source": [
    "ShortCodeCrime_df.set_index('Shortpostcode',inplace=True)\n",
    "#MeanRentalPrice_df.head()"
   ]
  },
  {
   "cell_type": "code",
   "execution_count": 37,
   "metadata": {},
   "outputs": [
    {
     "data": {
      "text/html": [
       "<div>\n",
       "<style scoped>\n",
       "    .dataframe tbody tr th:only-of-type {\n",
       "        vertical-align: middle;\n",
       "    }\n",
       "\n",
       "    .dataframe tbody tr th {\n",
       "        vertical-align: top;\n",
       "    }\n",
       "\n",
       "    .dataframe thead th {\n",
       "        text-align: right;\n",
       "    }\n",
       "</style>\n",
       "<table border=\"1\" class=\"dataframe\">\n",
       "  <thead>\n",
       "    <tr style=\"text-align: right;\">\n",
       "      <th></th>\n",
       "      <th>postcode</th>\n",
       "      <th>Lat</th>\n",
       "      <th>Long</th>\n",
       "    </tr>\n",
       "  </thead>\n",
       "  <tbody>\n",
       "    <tr>\n",
       "      <th>M3A</th>\n",
       "      <td>M3A</td>\n",
       "      <td>-79.325851</td>\n",
       "      <td>43.743374</td>\n",
       "    </tr>\n",
       "    <tr>\n",
       "      <th>M6G</th>\n",
       "      <td>M6G</td>\n",
       "      <td>-79.428719</td>\n",
       "      <td>43.669308</td>\n",
       "    </tr>\n",
       "    <tr>\n",
       "      <th>M5G</th>\n",
       "      <td>M5G</td>\n",
       "      <td>-79.384895</td>\n",
       "      <td>43.658512</td>\n",
       "    </tr>\n",
       "    <tr>\n",
       "      <th>M1T</th>\n",
       "      <td>M1T</td>\n",
       "      <td>-79.315231</td>\n",
       "      <td>43.784492</td>\n",
       "    </tr>\n",
       "    <tr>\n",
       "      <th>M4E</th>\n",
       "      <td>M4E</td>\n",
       "      <td>-79.298027</td>\n",
       "      <td>43.678886</td>\n",
       "    </tr>\n",
       "    <tr>\n",
       "      <th>M6E</th>\n",
       "      <td>M6E</td>\n",
       "      <td>-79.441109</td>\n",
       "      <td>43.702255</td>\n",
       "    </tr>\n",
       "    <tr>\n",
       "      <th>M3H</th>\n",
       "      <td>M3H</td>\n",
       "      <td>-79.440086</td>\n",
       "      <td>43.736111</td>\n",
       "    </tr>\n",
       "  </tbody>\n",
       "</table>\n",
       "</div>"
      ],
      "text/plain": [
       "    postcode        Lat       Long\n",
       "M3A      M3A -79.325851  43.743374\n",
       "M6G      M6G -79.428719  43.669308\n",
       "M5G      M5G -79.384895  43.658512\n",
       "M1T      M1T -79.315231  43.784492\n",
       "M4E      M4E -79.298027  43.678886\n",
       "M6E      M6E -79.441109  43.702255\n",
       "M3H      M3H -79.440086  43.736111"
      ]
     },
     "execution_count": 37,
     "metadata": {},
     "output_type": "execute_result"
    }
   ],
   "source": [
    "#Check for Longitude and Latitude for each M3A, M3H M5G and M5P\n",
    "FeatureDf=pd.DataFrame(columns=['postcode','Lat','Long'])\n",
    "\n",
    "#Initilising Dic\n",
    "for i in Top_Areas:\n",
    "    Postcode_Cordinate[i]={}\n",
    "    \n",
    "for i in Top_Areas:\n",
    "    a = crimedata.loc[crimedata['postcode'].str.startswith(i),['postcode','Lat','Long']]\n",
    "    a.reset_index(inplace=True)    \n",
    "    FeatureDf.loc[i] = [i,a.loc[0]['Long'],a.loc[0]['Lat']]\n",
    "    Postcode_Cordinate[i]['Lat'] = a.loc[0]['Lat']\n",
    "    Postcode_Cordinate[i]['Long'] = a.loc[0]['Long']\n",
    "    Postcode_Cordinate[i]['Crime'] = ShortCodeCrime_df.loc[i,'NumberOfCrime']\n",
    "    Postcode_Cordinate[i]['Rent']  = MeanRentalPrice_df.loc[i,'PriceFor2Room']\n",
    "                    \n",
    "\n",
    "FeatureDf"
   ]
  },
  {
   "cell_type": "code",
   "execution_count": 38,
   "metadata": {},
   "outputs": [
    {
     "name": "stdout",
     "output_type": "stream",
     "text": [
      "{'TorontoCity': {'Lat': 43.653908, 'Long': -79.384293}, 'M3A': {'Lat': 43.743373999999996, 'Long': -79.325851, 'Crime': 2, 'Rent': 800.0}, 'M6G': {'Lat': 43.669308, 'Long': -79.428719, 'Crime': 8, 'Rent': 1164.4444443333334}, 'M5G': {'Lat': 43.658512, 'Long': -79.384895, 'Crime': 2, 'Rent': 1193.3333333333333}, 'M1T': {'Lat': 43.784492, 'Long': -79.31523100000001, 'Crime': 6, 'Rent': 1250.0}, 'M4E': {'Lat': 43.678886, 'Long': -79.298027, 'Crime': 4, 'Rent': 1300.0}, 'M6E': {'Lat': 43.702255, 'Long': -79.441109, 'Crime': 7, 'Rent': 1333.333333}, 'M3H': {'Lat': 43.736111, 'Long': -79.440086, 'Crime': 3, 'Rent': 1506.1111110000002}}\n"
     ]
    }
   ],
   "source": [
    "print(Postcode_Cordinate)"
   ]
  },
  {
   "cell_type": "code",
   "execution_count": 124,
   "metadata": {
    "scrolled": true
   },
   "outputs": [
    {
     "data": {
      "text/html": [
       "<div style=\"width:100%;\"><div style=\"position:relative;width:100%;height:0;padding-bottom:60%;\"><iframe src=\"data:text/html;charset=utf-8;base64,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\" style=\"position:absolute;width:100%;height:100%;left:0;top:0;border:none !important;\" allowfullscreen webkitallowfullscreen mozallowfullscreen></iframe></div></div>"
      ],
      "text/plain": [
       "<folium.folium.Map at 0x7f8ed026a8d0>"
      ]
     },
     "execution_count": 124,
     "metadata": {},
     "output_type": "execute_result"
    }
   ],
   "source": [
    "#Shows these points on Maps.\n",
    "import folium\n",
    "\n",
    "m = folium.Map(\n",
    "    location=[Postcode_Cordinate['TorontoCity']['Lat'], Postcode_Cordinate['TorontoCity']['Long']],\n",
    "    tiles='Stamen Toner',\n",
    "    zoom_start=10\n",
    ")\n",
    "\n",
    "folium.Circle(\n",
    "    radius=1000,\n",
    "    location=[Postcode_Cordinate['TorontoCity']['Lat'], Postcode_Cordinate['TorontoCity']['Long']],\n",
    "    popup='Toronto Main City',\n",
    "    color='Blue',\n",
    "    fill=True\n",
    ").add_to(m)\n",
    "\n",
    "for i in Top_Areas:\n",
    "    folium.Marker(\n",
    "        location=[Postcode_Cordinate[i]['Lat'], Postcode_Cordinate[i]['Long']],\n",
    "        popup='Postcode: '+i+' Rent='+str(round(Postcode_Cordinate[i]['Rent']))+ ' Crime = '+str(Postcode_Cordinate[i]['Crime'])\n",
    "    ).add_to(m)\n",
    "m"
   ]
  },
  {
   "cell_type": "markdown",
   "metadata": {},
   "source": [
    "## Finding the coffee shops near Top5 locations using Foursquare API"
   ]
  },
  {
   "cell_type": "code",
   "execution_count": 74,
   "metadata": {},
   "outputs": [
    {
     "name": "stdout",
     "output_type": "stream",
     "text": [
      "Your credentails:\n",
      "CLIENT_ID: P3TBTCKATTROFAUL4VZSL13OLTC0ADEKZG2HQPWDFQPLTZGV\n",
      "CLIENT_SECRET:KGXM2ON34TIDWST1Y03HAKIRHLRKHTT2CPJT3TOTW2LYTNIQ\n"
     ]
    }
   ],
   "source": [
    "CLIENT_ID = '--Removed--' # your Foursquare ID\n",
    "CLIENT_SECRET = '--Removed--' # your Foursquare Secret\n",
    "VERSION = '20190605' # Foursquare API version\n",
    "\n",
    "\n",
    "print('Your credentails:')\n",
    "print('CLIENT_ID: ' + CLIENT_ID)\n",
    "print('CLIENT_SECRET:' + CLIENT_SECRET)"
   ]
  },
  {
   "cell_type": "code",
   "execution_count": 75,
   "metadata": {},
   "outputs": [
    {
     "name": "stdout",
     "output_type": "stream",
     "text": [
      "https://api.foursquare.com/v2/venues/search?client_id=P3TBTCKATTROFAUL4VZSL13OLTC0ADEKZG2HQPWDFQPLTZGV&client_secret=KGXM2ON34TIDWST1Y03HAKIRHLRKHTT2CPJT3TOTW2LYTNIQ&v=20190605&ll=43.743373999999996,-79.325851&query=Dog&limit=50\n",
      "21\n",
      "https://api.foursquare.com/v2/venues/search?client_id=P3TBTCKATTROFAUL4VZSL13OLTC0ADEKZG2HQPWDFQPLTZGV&client_secret=KGXM2ON34TIDWST1Y03HAKIRHLRKHTT2CPJT3TOTW2LYTNIQ&v=20190605&ll=43.669308,-79.428719&query=Dog&limit=50\n",
      "43\n",
      "https://api.foursquare.com/v2/venues/search?client_id=P3TBTCKATTROFAUL4VZSL13OLTC0ADEKZG2HQPWDFQPLTZGV&client_secret=KGXM2ON34TIDWST1Y03HAKIRHLRKHTT2CPJT3TOTW2LYTNIQ&v=20190605&ll=43.658512,-79.384895&query=Dog&limit=50\n",
      "50\n",
      "https://api.foursquare.com/v2/venues/search?client_id=P3TBTCKATTROFAUL4VZSL13OLTC0ADEKZG2HQPWDFQPLTZGV&client_secret=KGXM2ON34TIDWST1Y03HAKIRHLRKHTT2CPJT3TOTW2LYTNIQ&v=20190605&ll=43.784492,-79.31523100000001&query=Dog&limit=50\n",
      "50\n",
      "https://api.foursquare.com/v2/venues/search?client_id=P3TBTCKATTROFAUL4VZSL13OLTC0ADEKZG2HQPWDFQPLTZGV&client_secret=KGXM2ON34TIDWST1Y03HAKIRHLRKHTT2CPJT3TOTW2LYTNIQ&v=20190605&ll=43.678886,-79.298027&query=Dog&limit=50\n",
      "36\n",
      "https://api.foursquare.com/v2/venues/search?client_id=P3TBTCKATTROFAUL4VZSL13OLTC0ADEKZG2HQPWDFQPLTZGV&client_secret=KGXM2ON34TIDWST1Y03HAKIRHLRKHTT2CPJT3TOTW2LYTNIQ&v=20190605&ll=43.702255,-79.441109&query=Dog&limit=50\n",
      "50\n",
      "https://api.foursquare.com/v2/venues/search?client_id=P3TBTCKATTROFAUL4VZSL13OLTC0ADEKZG2HQPWDFQPLTZGV&client_secret=KGXM2ON34TIDWST1Y03HAKIRHLRKHTT2CPJT3TOTW2LYTNIQ&v=20190605&ll=43.736111,-79.440086&query=Dog&limit=50\n",
      "27\n"
     ]
    }
   ],
   "source": [
    "#Create URLs for Foursqare\n",
    "for i in Top_Areas:\n",
    "    lLat_lLong = str(Postcode_Cordinate[i]['Lat'])+','+str(Postcode_Cordinate[i]['Long'])\n",
    "    url = 'https://api.foursquare.com/v2/venues/search?client_id='+CLIENT_ID+'&client_secret='+CLIENT_SECRET+'&v='+VERSION+'&ll='+lLat_lLong+'&query='+BUSINESS_TYPE+'&limit=50'\n",
    "    print(url)\n",
    "    results = requests.get(url).json()\n",
    "    lenn= len(results['response']['venues'])\n",
    "    print(lenn)\n",
    "    Postcode_Cordinate[i]['NoOfDogShop'] = lenn"
   ]
  },
  {
   "cell_type": "code",
   "execution_count": 95,
   "metadata": {},
   "outputs": [],
   "source": [
    "#So all the Top areas are having more than 50 coffee shops So plot these numbers.\n",
    "#df_Crime_Rental.drop(columns='index',inplace=True)\n",
    "#df_Crime_Rental"
   ]
  },
  {
   "cell_type": "code",
   "execution_count": 88,
   "metadata": {},
   "outputs": [],
   "source": [
    "lDogShop=[]\n",
    "\n",
    "for i in Top_Areas:\n",
    "    lDogShop.insert(len(lDogShop),Postcode_Cordinate[i]['NoOfDogShop'])\n",
    "\n",
    "\n",
    "#df_Crime_Rental.insert(4,\"NoOfDogShop\",lDogShop)\n",
    "#df_Crime_Rental.reset_index(inplace=True)\n"
   ]
  },
  {
   "cell_type": "code",
   "execution_count": 139,
   "metadata": {},
   "outputs": [
    {
     "data": {
      "text/html": [
       "<div>\n",
       "<style scoped>\n",
       "    .dataframe tbody tr th:only-of-type {\n",
       "        vertical-align: middle;\n",
       "    }\n",
       "\n",
       "    .dataframe tbody tr th {\n",
       "        vertical-align: top;\n",
       "    }\n",
       "\n",
       "    .dataframe thead th {\n",
       "        text-align: right;\n",
       "    }\n",
       "</style>\n",
       "<table border=\"1\" class=\"dataframe\">\n",
       "  <thead>\n",
       "    <tr style=\"text-align: right;\">\n",
       "      <th></th>\n",
       "      <th>Shortpostcode</th>\n",
       "      <th>NoOfDogShop</th>\n",
       "      <th>NumberOfCrime_Norm</th>\n",
       "      <th>PriceFor2Room_Norm</th>\n",
       "    </tr>\n",
       "  </thead>\n",
       "  <tbody>\n",
       "    <tr>\n",
       "      <th>0</th>\n",
       "      <td>M3A</td>\n",
       "      <td>0.000000</td>\n",
       "      <td>0.000000</td>\n",
       "      <td>0.000000</td>\n",
       "    </tr>\n",
       "    <tr>\n",
       "      <th>1</th>\n",
       "      <td>M6G</td>\n",
       "      <td>0.758621</td>\n",
       "      <td>1.000000</td>\n",
       "      <td>0.516129</td>\n",
       "    </tr>\n",
       "    <tr>\n",
       "      <th>2</th>\n",
       "      <td>M5G</td>\n",
       "      <td>1.000000</td>\n",
       "      <td>0.000000</td>\n",
       "      <td>0.557042</td>\n",
       "    </tr>\n",
       "    <tr>\n",
       "      <th>3</th>\n",
       "      <td>M1T</td>\n",
       "      <td>1.000000</td>\n",
       "      <td>0.666667</td>\n",
       "      <td>0.637293</td>\n",
       "    </tr>\n",
       "    <tr>\n",
       "      <th>4</th>\n",
       "      <td>M4E</td>\n",
       "      <td>0.517241</td>\n",
       "      <td>0.333333</td>\n",
       "      <td>0.708104</td>\n",
       "    </tr>\n",
       "    <tr>\n",
       "      <th>5</th>\n",
       "      <td>M6E</td>\n",
       "      <td>1.000000</td>\n",
       "      <td>0.833333</td>\n",
       "      <td>0.755311</td>\n",
       "    </tr>\n",
       "    <tr>\n",
       "      <th>6</th>\n",
       "      <td>M3H</td>\n",
       "      <td>0.206897</td>\n",
       "      <td>0.166667</td>\n",
       "      <td>1.000000</td>\n",
       "    </tr>\n",
       "  </tbody>\n",
       "</table>\n",
       "</div>"
      ],
      "text/plain": [
       "  Shortpostcode  NoOfDogShop  NumberOfCrime_Norm  PriceFor2Room_Norm\n",
       "0           M3A     0.000000            0.000000            0.000000\n",
       "1           M6G     0.758621            1.000000            0.516129\n",
       "2           M5G     1.000000            0.000000            0.557042\n",
       "3           M1T     1.000000            0.666667            0.637293\n",
       "4           M4E     0.517241            0.333333            0.708104\n",
       "5           M6E     1.000000            0.833333            0.755311\n",
       "6           M3H     0.206897            0.166667            1.000000"
      ]
     },
     "execution_count": 139,
     "metadata": {},
     "output_type": "execute_result"
    }
   ],
   "source": [
    "df_Crime_Rental.reset_index(inplace=True)\n",
    "df_Crime_Rental[['Shortpostcode','NoOfDogShop','NumberOfCrime_Norm','PriceFor2Room_Norm']]"
   ]
  },
  {
   "cell_type": "code",
   "execution_count": 90,
   "metadata": {},
   "outputs": [
    {
     "name": "stderr",
     "output_type": "stream",
     "text": [
      "/opt/conda/envs/Python36/lib/python3.6/site-packages/sklearn/preprocessing/data.py:334: DataConversionWarning: Data with input dtype int64 were all converted to float64 by MinMaxScaler.\n",
      "  return self.partial_fit(X, y)\n"
     ]
    }
   ],
   "source": [
    "min_max_scaler = preprocessing.MinMaxScaler()\n",
    "df_Crime_Rental[['NoOfDogShop']] = min_max_scaler.fit_transform(df_Crime_Rental[['NoOfDogShop']])"
   ]
  },
  {
   "cell_type": "code",
   "execution_count": 140,
   "metadata": {},
   "outputs": [],
   "source": [
    "df_Crime_Rental.set_index('Shortpostcode',inplace=True)"
   ]
  },
  {
   "cell_type": "code",
   "execution_count": 141,
   "metadata": {},
   "outputs": [
    {
     "data": {
      "image/png": "[encoded data removed]",
      "text/plain": [
       "<Figure size 1224x576 with 1 Axes>"
      ]
     },
     "metadata": {
      "needs_background": "light"
     },
     "output_type": "display_data"
    }
   ],
   "source": [
    "#Make a graph to show a relationship between rent and crime\n",
    "fig_size = plt.rcParams[\"figure.figsize\"]\n",
    "fig_size[0] = 17\n",
    "fig_size[1] = 8\n",
    "plt.rcParams[\"figure.figsize\"] = fig_size\n",
    "df_bar=df_Crime_Rental[['NoOfDogShop','PriceFor2Room_Norm','NumberOfCrime_Norm']]\n",
    "\n",
    "\n",
    "#price_plt=plt.bar(df_Crime_Rental.index,df_Crime_Rental['PriceFor2Room_Norm'])\n",
    "price_plt=df_bar.plot.bar(rot=0)\n",
    "#crime_plt=plt.plot(df_Crime_Rental.index,df_Crime_Rental['NumberOfCrime_Norm'],color='y')\n",
    "#Dog_plt=plt.bar(df_Crime_Rental.index,df_Crime_Rental['NoOfDogShop'])\n",
    "\n",
    "\n",
    "plt.xlabel('ShortPostCode')\n",
    "plt.ylabel('Values for Rental, Crime and Business')\n",
    "plt.title('CrimeRate Vs Rental w.r.t Postcode')\n",
    "#plt.xticks(df_Crime_Rental.index)\n",
    "#plt.legend(price_plt[0],Crime')\n",
    "plt.show()"
   ]
  },
  {
   "cell_type": "markdown",
   "metadata": {},
   "source": [
    "# It looks like M3H has low crime with Least Dog shop and also rent is under Budget and also closer to Toronto."
   ]
  }
 ],
 "metadata": {
  "kernelspec": {
   "display_name": "Python 3.6",
   "language": "python",
   "name": "python3"
  },
  "language_info": {
   "codemirror_mode": {
    "name": "ipython",
    "version": 3
   },
   "file_extension": ".py",
   "mimetype": "text/x-python",
   "name": "python",
   "nbconvert_exporter": "python",
   "pygments_lexer": "ipython3",
   "version": "3.6.9"
  }
 },
 "nbformat": 4,
 "nbformat_minor": 1
}
